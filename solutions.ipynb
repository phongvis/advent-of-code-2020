{
 "cells": [
  {
   "cell_type": "markdown",
   "metadata": {
    "Collapsed": "false"
   },
   "source": [
    "# Advent of Code 2020"
   ]
  },
  {
   "cell_type": "code",
   "execution_count": 1,
   "metadata": {
    "Collapsed": "false"
   },
   "outputs": [],
   "source": [
    "from helper import *\n",
    "import networkx as nx"
   ]
  },
  {
   "cell_type": "markdown",
   "metadata": {
    "Collapsed": "false"
   },
   "source": [
    "## Day 1: [Report Repair](https://adventofcode.com/2020/day/1)"
   ]
  },
  {
   "cell_type": "code",
   "execution_count": 2,
   "metadata": {
    "Collapsed": "false"
   },
   "outputs": [
    {
     "data": {
      "text/plain": [
       "964875"
      ]
     },
     "execution_count": 2,
     "metadata": {},
     "output_type": "execute_result"
    }
   ],
   "source": [
    "def day1a():\n",
    "    nums = get_input_ints(1)\n",
    "    for a, b in combinations(nums, 2):\n",
    "        if a + b == 2020:\n",
    "            return a * b\n",
    "    \n",
    "day1a()"
   ]
  },
  {
   "cell_type": "code",
   "execution_count": 3,
   "metadata": {
    "Collapsed": "false"
   },
   "outputs": [
    {
     "data": {
      "text/plain": [
       "158661360"
      ]
     },
     "execution_count": 3,
     "metadata": {},
     "output_type": "execute_result"
    }
   ],
   "source": [
    "def day1b():\n",
    "    nums = get_input_ints(1)\n",
    "    for a, b, c in combinations(nums, 3):\n",
    "        if a + b + c == 2020:\n",
    "            return a * b * c\n",
    "    \n",
    "day1b()"
   ]
  },
  {
   "cell_type": "markdown",
   "metadata": {
    "Collapsed": "false"
   },
   "source": [
    "## Day 2: [Password Philosophy](https://adventofcode.com/2020/day/2)"
   ]
  },
  {
   "cell_type": "code",
   "execution_count": 4,
   "metadata": {
    "Collapsed": "false"
   },
   "outputs": [
    {
     "data": {
      "text/plain": [
       "506"
      ]
     },
     "execution_count": 4,
     "metadata": {},
     "output_type": "execute_result"
    }
   ],
   "source": [
    "def parse(line):\n",
    "    # Or proper regex: re.findall(r'(\\d+)-(\\d+) (\\w): (\\w+)', x)[0]\n",
    "    n1, n2, letter, _, pwd = re.split('\\W', line)\n",
    "    return int(n1), int(n2), letter, pwd\n",
    "    \n",
    "def check1(line):\n",
    "    n1, n2, letter, pwd = parse(line)\n",
    "    return n1 <= Counter(pwd)[letter] <= n2\n",
    "\n",
    "def check_lines1(lines):\n",
    "    return sum(check1(line) for line in lines)\n",
    "\n",
    "assert(check_lines1(\"\"\"1-3 a: abcde\n",
    "1-3 b: cdefg\n",
    "2-9 c: ccccccccc\"\"\".split('\\n')) == 2)\n",
    "    \n",
    "def day2a():\n",
    "    return check_lines1(get_input_rows(2))\n",
    "    \n",
    "day2a()"
   ]
  },
  {
   "cell_type": "code",
   "execution_count": 5,
   "metadata": {
    "Collapsed": "false"
   },
   "outputs": [
    {
     "data": {
      "text/plain": [
       "443"
      ]
     },
     "execution_count": 5,
     "metadata": {},
     "output_type": "execute_result"
    }
   ],
   "source": [
    "def check2(line):\n",
    "    n1, n2, letter, pwd = parse(line)\n",
    "    return (pwd[n1-1] == letter) ^ (pwd[n2-1] == letter)\n",
    "    \n",
    "def check_lines2(lines):\n",
    "    return sum(check2(line) for line in lines)\n",
    "\n",
    "assert(check_lines2(\"\"\"1-3 a: abcde\n",
    "1-3 b: cdefg\n",
    "2-9 c: ccccccccc\"\"\".split('\\n')) == 1)\n",
    "\n",
    "def day2b():\n",
    "    return check_lines2(get_input_rows(2))\n",
    "\n",
    "day2b()"
   ]
  },
  {
   "cell_type": "markdown",
   "metadata": {
    "Collapsed": "false"
   },
   "source": [
    "## Day 3: [Toboggan Trajectory](https://adventofcode.com/2020/day/3)"
   ]
  },
  {
   "cell_type": "code",
   "execution_count": 77,
   "metadata": {
    "Collapsed": "false"
   },
   "outputs": [
    {
     "data": {
      "text/plain": [
       "276"
      ]
     },
     "execution_count": 77,
     "metadata": {},
     "output_type": "execute_result"
    }
   ],
   "source": [
    "def count_trees(lines, step_x=1, step_y=3):\n",
    "    m = len(lines)\n",
    "    n = len(lines[0])\n",
    "    count = 0\n",
    "    for i in range(0, m, step_x):\n",
    "        j = i // step_x * step_y % n\n",
    "        count += lines[i][j] == '#'\n",
    "    return count\n",
    "            \n",
    "assert count_trees(\"\"\"..##.......\n",
    "#...#...#..\n",
    ".#....#..#.\n",
    "..#.#...#.#\n",
    ".#...##..#.\n",
    "..#.##.....\n",
    ".#.#.#....#\n",
    ".#........#\n",
    "#.##...#...\n",
    "#...##....#\n",
    ".#..#...#.#\"\"\".split('\\n')) == 7\n",
    "\n",
    "def day3a():\n",
    "    return count_trees(get_input_rows(3))\n",
    "    \n",
    "day3a()"
   ]
  },
  {
   "cell_type": "code",
   "execution_count": 78,
   "metadata": {
    "Collapsed": "false"
   },
   "outputs": [
    {
     "data": {
      "text/plain": [
       "7812180000"
      ]
     },
     "execution_count": 78,
     "metadata": {},
     "output_type": "execute_result"
    }
   ],
   "source": [
    "def mult_all_trees(lines):\n",
    "    return count_trees(lines, 1, 1) * count_trees(lines, 1, 3) * count_trees(lines, 1, 5) * count_trees(lines, 1, 7) * count_trees(lines, 2, 1)\n",
    "\n",
    "assert mult_all_trees(\"\"\"..##.......\n",
    "#...#...#..\n",
    ".#....#..#.\n",
    "..#.#...#.#\n",
    ".#...##..#.\n",
    "..#.##.....\n",
    ".#.#.#....#\n",
    ".#........#\n",
    "#.##...#...\n",
    "#...##....#\n",
    ".#..#...#.#\"\"\".split('\\n')) == 336\n",
    "\n",
    "def day3b():\n",
    "    return mult_all_trees(get_input_rows(3))\n",
    "    \n",
    "day3b()"
   ]
  },
  {
   "cell_type": "markdown",
   "metadata": {
    "Collapsed": "false"
   },
   "source": [
    "## Day 4: [Passport Processing](https://adventofcode.com/2020/day/4)"
   ]
  },
  {
   "cell_type": "code",
   "execution_count": 86,
   "metadata": {
    "Collapsed": "false"
   },
   "outputs": [
    {
     "data": {
      "text/plain": [
       "2"
      ]
     },
     "execution_count": 86,
     "metadata": {},
     "output_type": "execute_result"
    }
   ],
   "source": [
    "required_fields = set(['byr', 'iyr', 'eyr', 'hgt', 'hcl', 'ecl', 'pid'])\n",
    "\n",
    "def is_valid_passport(text):\n",
    "    fields = []\n",
    "    for info in text.split():\n",
    "        k, v = info.split(':')\n",
    "        fields.append(k)\n",
    "    return len(required_fields.intersection(fields)) == 7\n",
    "    \n",
    "is_valid_passport(\"\"\"ecl:gry pid:860033327 eyr:2020 hcl:#fffffd\n",
    "byr:1937 iyr:2017 cid:147 hgt:183cm\"\"\")\n",
    "\n",
    "def check_valid_passports(text):\n",
    "    return sum(is_valid_passport(t) for t in text.split('\\n\\n'))\n",
    "    \n",
    "check_valid_passports(\"\"\"ecl:gry pid:860033327 eyr:2020 hcl:#fffffd\n",
    "byr:1937 iyr:2017 cid:147 hgt:183cm\n",
    "\n",
    "iyr:2013 ecl:amb cid:350 eyr:2023 pid:028048884\n",
    "hcl:#cfa07d byr:1929\n",
    "\n",
    "hcl:#ae17e1 iyr:2013\n",
    "eyr:2024\n",
    "ecl:brn pid:760753108 byr:1931\n",
    "hgt:179cm\n",
    "\n",
    "hcl:#cfa07d eyr:2025 pid:166559648\n",
    "iyr:2011 ecl:brn hgt:59in\"\"\")"
   ]
  },
  {
   "cell_type": "code",
   "execution_count": 88,
   "metadata": {
    "Collapsed": "false"
   },
   "outputs": [
    {
     "data": {
      "text/plain": [
       "170"
      ]
     },
     "execution_count": 88,
     "metadata": {},
     "output_type": "execute_result"
    }
   ],
   "source": [
    "def day4a():\n",
    "    return check_valid_passports(get_input_string(4))\n",
    "    \n",
    "day4a()"
   ]
  },
  {
   "cell_type": "code",
   "execution_count": 138,
   "metadata": {
    "Collapsed": "false"
   },
   "outputs": [],
   "source": [
    "def is_valid_passport2(text):\n",
    "    fields = {}\n",
    "    for info in text.split():\n",
    "        k, v = info.split(':')\n",
    "        fields[k] = v\n",
    "\n",
    "    if len(required_fields.intersection(fields.keys())) != 7:\n",
    "        return False\n",
    "\n",
    "    if not(1920 <= int(fields['byr']) <= 2002): return False\n",
    "    if not(2010 <= int(fields['iyr']) <= 2020): return False\n",
    "    if not(2020 <= int(fields['eyr']) <= 2030): return False\n",
    "\n",
    "    hunit = fields['hgt'][-2:]\n",
    "    if hunit not in ['cm', 'in']: return False\n",
    "    height = int(fields['hgt'][:-2])\n",
    "    if hunit == 'cm':\n",
    "        if not(150 <= height <= 193): return False\n",
    "    if hunit == 'in':\n",
    "        if not(59 <= height <= 76): return False\n",
    "\n",
    "    if not re.match(r'^#[0-9a-f]{6}$', fields['hcl']): return False\n",
    "    if fields['ecl'] not in 'amb blu brn gry grn hzl oth'.split(): return False\n",
    "    if not re.match(r'^\\d{9}$', fields['pid']): return False\n",
    "    \n",
    "    return True\n",
    "\n",
    "assert is_valid_passport2(\"\"\"pid:087499704 hgt:74in ecl:grn iyr:2012 eyr:2030 byr:1980\n",
    "hcl:#623a2f\"\"\")\n",
    "assert is_valid_passport2(\"\"\"eyr:2029 ecl:blu cid:129 byr:1989\n",
    "iyr:2014 pid:896056539 hcl:#a97842 hgt:165cm\"\"\")\n",
    "\n",
    "def check_valid_passports2(text):\n",
    "    return sum(is_valid_passport2(t) for t in text.split('\\n\\n'))\n",
    "\n",
    "assert check_valid_passports2(\"\"\"eyr:1972 cid:100\n",
    "hcl:#18171d ecl:amb hgt:170 pid:186cm iyr:2018 byr:1926\n",
    "\n",
    "iyr:2019\n",
    "hcl:#602927 eyr:1967 hgt:170cm\n",
    "ecl:grn pid:012533040 byr:1946\n",
    "\n",
    "hcl:dab227 iyr:2012\n",
    "ecl:brn hgt:182cm pid:021572410 eyr:2020 byr:1992 cid:277\n",
    "\n",
    "hgt:59cm ecl:zzz\n",
    "eyr:2038 hcl:74454a iyr:2023\n",
    "pid:3556412378 byr:2007\"\"\") == 0\n",
    "\n",
    "assert check_valid_passports2(\"\"\"pid:087499704 hgt:74in ecl:grn iyr:2012 eyr:2030 byr:1980\n",
    "hcl:#623a2f\n",
    "\n",
    "eyr:2029 ecl:blu cid:129 byr:1989\n",
    "iyr:2014 pid:896056539 hcl:#a97842 hgt:165cm\n",
    "\n",
    "hcl:#888785\n",
    "hgt:164cm byr:2001 iyr:2015 cid:88\n",
    "pid:545766238 ecl:hzl\n",
    "eyr:2022\n",
    "\n",
    "iyr:2010 hgt:158cm hcl:#b6652a ecl:blu byr:1944 eyr:2021 pid:093154719\"\"\") == 4"
   ]
  },
  {
   "cell_type": "code",
   "execution_count": 140,
   "metadata": {
    "Collapsed": "false"
   },
   "outputs": [
    {
     "data": {
      "text/plain": [
       "103"
      ]
     },
     "execution_count": 140,
     "metadata": {},
     "output_type": "execute_result"
    }
   ],
   "source": [
    "def day4b():\n",
    "    return check_valid_passports2(get_input_string(4))\n",
    "\n",
    "day4b()"
   ]
  },
  {
   "cell_type": "markdown",
   "metadata": {
    "Collapsed": "false"
   },
   "source": [
    "## Day 5: [Binary Boarding](https://adventofcode.com/2020/day/5)"
   ]
  },
  {
   "cell_type": "code",
   "execution_count": 157,
   "metadata": {
    "Collapsed": "false"
   },
   "outputs": [
    {
     "data": {
      "text/plain": [
       "951"
      ]
     },
     "execution_count": 157,
     "metadata": {},
     "output_type": "execute_result"
    }
   ],
   "source": [
    "def find_seat(letters):\n",
    "    letters = letters.replace('B', '1').replace('F', '0').replace('R', '1').replace('L', '0')\n",
    "    return int(letters, 2)\n",
    "\n",
    "assert find_seat('FBFBBFFRLR') == 357\n",
    "\n",
    "def day5a():\n",
    "    rows = get_input_rows(5)\n",
    "    seats = [find_seat(r) for r in rows]\n",
    "    return max(seats)\n",
    "    \n",
    "day5a()"
   ]
  },
  {
   "cell_type": "code",
   "execution_count": 162,
   "metadata": {
    "Collapsed": "false"
   },
   "outputs": [
    {
     "data": {
      "text/plain": [
       "653"
      ]
     },
     "execution_count": 162,
     "metadata": {},
     "output_type": "execute_result"
    }
   ],
   "source": [
    "def day5b():\n",
    "    rows = get_input_rows(5)\n",
    "    seats = [find_seat(r) for r in rows]\n",
    "    s1, s2 = min(seats), max(seats)\n",
    "    all_seats = set(range(s1, s2+1))\n",
    "    return list(all_seats.difference(seats))[0]\n",
    "\n",
    "day5b()"
   ]
  },
  {
   "cell_type": "markdown",
   "metadata": {
    "Collapsed": "false"
   },
   "source": [
    "## Day 6: [Custom Customs](https://adventofcode.com/2020/day/6)"
   ]
  },
  {
   "cell_type": "code",
   "execution_count": 185,
   "metadata": {
    "Collapsed": "false"
   },
   "outputs": [
    {
     "data": {
      "text/plain": [
       "6335"
      ]
     },
     "execution_count": 185,
     "metadata": {},
     "output_type": "execute_result"
    }
   ],
   "source": [
    "def count_group(g):\n",
    "    g = g.replace('\\n', '')\n",
    "    return len(Counter(g).most_common())\n",
    "\n",
    "assert count_group(\"\"\"abcx\n",
    "abcy\n",
    "abcz\"\"\") == 6\n",
    "\n",
    "def count_answers(text):\n",
    "    return sum(count_group(g) for g in text.split('\\n\\n'))\n",
    "    \n",
    "assert count_answers(\"\"\"abc\n",
    "\n",
    "a\n",
    "b\n",
    "c\n",
    "\n",
    "ab\n",
    "ac\n",
    "\n",
    "a\n",
    "a\n",
    "a\n",
    "a\n",
    "\n",
    "b\"\"\") == 11\n",
    "\n",
    "def day6a():\n",
    "    return count_answers(get_input_string(6))\n",
    "\n",
    "day6a()"
   ]
  },
  {
   "cell_type": "code",
   "execution_count": 187,
   "metadata": {
    "Collapsed": "false"
   },
   "outputs": [
    {
     "data": {
      "text/plain": [
       "3392"
      ]
     },
     "execution_count": 187,
     "metadata": {},
     "output_type": "execute_result"
    }
   ],
   "source": [
    "def count_group(g):\n",
    "    lines = g.split('\\n')\n",
    "    s = set(lines[0])\n",
    "    for g in lines[1:]:\n",
    "        s.intersection_update(g)\n",
    "    return len(s)\n",
    "    \n",
    "assert count_group(\"\"\"abc\"\"\") == 3\n",
    "\n",
    "def count_answers(text):\n",
    "    return sum(count_group(g.strip()) for g in text.split('\\n\\n'))\n",
    "    \n",
    "assert count_answers(\"\"\"abc\n",
    "\n",
    "a\n",
    "b\n",
    "c\n",
    "\n",
    "ab\n",
    "ac\n",
    "\n",
    "a\n",
    "a\n",
    "a\n",
    "a\n",
    "\n",
    "b\"\"\") == 6\n",
    "\n",
    "def day6b():\n",
    "    return count_answers(get_input_string(6))\n",
    "\n",
    "day6b()"
   ]
  },
  {
   "cell_type": "markdown",
   "metadata": {
    "Collapsed": "false"
   },
   "source": [
    "## Day 7: [Handy Haversacks](https://adventofcode.com/2020/day/7)"
   ]
  },
  {
   "cell_type": "code",
   "execution_count": 240,
   "metadata": {
    "Collapsed": "false"
   },
   "outputs": [
    {
     "data": {
      "text/plain": [
       "126"
      ]
     },
     "execution_count": 240,
     "metadata": {},
     "output_type": "execute_result"
    }
   ],
   "source": [
    "def to_graph(rows):\n",
    "    graph = nx.DiGraph()\n",
    "    \n",
    "    for row in rows:\n",
    "        source = row[:row.index('bags')].strip()\n",
    "        graph.add_node(source)\n",
    "        \n",
    "        dests = row[row.index('contain'):].strip()\n",
    "        if 'no other bags' in dests:\n",
    "            continue\n",
    "            \n",
    "        for d in dests.split(','):\n",
    "            m = re.match(r'.*(\\d+)(.*)bag.*', d)\n",
    "            count, name = m.groups()\n",
    "            graph.add_edge(source, name.strip(), weight=count)\n",
    "            \n",
    "    return graph\n",
    "\n",
    "def count_sacks(rows):\n",
    "    g = to_graph(rows)\n",
    "    count = len([n for n in g.nodes if nx.has_path(g, n, 'shiny gold')])\n",
    "    return count - 1\n",
    "    \n",
    "def get_node_count(node, g):\n",
    "    count = 1\n",
    "    for n in g.neighbors(node):\n",
    "        count += int(g[node][n]['weight']) * get_node_count(n, g)\n",
    "    return count\n",
    "        \n",
    "def count_sub_sacks(rows):\n",
    "    g = to_graph(rows)\n",
    "    return get_node_count('shiny gold', g) - 1\n",
    "\n",
    "count_sub_sacks(\"\"\"shiny gold bags contain 2 dark red bags.\n",
    "dark red bags contain 2 dark orange bags.\n",
    "dark orange bags contain 2 dark yellow bags.\n",
    "dark yellow bags contain 2 dark green bags.\n",
    "dark green bags contain 2 dark blue bags.\n",
    "dark blue bags contain 2 dark violet bags.\n",
    "dark violet bags contain no other bags.\"\"\".splitlines())"
   ]
  },
  {
   "cell_type": "code",
   "execution_count": 237,
   "metadata": {
    "Collapsed": "false"
   },
   "outputs": [
    {
     "data": {
      "text/plain": [
       "124"
      ]
     },
     "execution_count": 237,
     "metadata": {},
     "output_type": "execute_result"
    }
   ],
   "source": [
    "def day7a():\n",
    "    return count_sacks(get_input_rows(7))\n",
    "\n",
    "day7a()"
   ]
  },
  {
   "cell_type": "code",
   "execution_count": 236,
   "metadata": {
    "Collapsed": "false"
   },
   "outputs": [
    {
     "data": {
      "text/plain": [
       "34862"
      ]
     },
     "execution_count": 236,
     "metadata": {},
     "output_type": "execute_result"
    }
   ],
   "source": [
    "def day7b():\n",
    "    return count_sub_sacks(get_input_rows(7))\n",
    "\n",
    "day7b()"
   ]
  },
  {
   "cell_type": "markdown",
   "metadata": {
    "Collapsed": "false"
   },
   "source": [
    "## Day 8: [Handheld Halting](https://adventofcode.com/2020/day/8)"
   ]
  },
  {
   "cell_type": "code",
   "execution_count": 264,
   "metadata": {
    "Collapsed": "false"
   },
   "outputs": [
    {
     "data": {
      "text/plain": [
       "5"
      ]
     },
     "execution_count": 264,
     "metadata": {},
     "output_type": "execute_result"
    }
   ],
   "source": [
    "def run(rows):\n",
    "    cp = 0\n",
    "    acc = 0\n",
    "    seen = set()\n",
    "    ins = [(r[:3], int(r[3:])) for idx, r in enumerate(rows)]\n",
    "\n",
    "    while cp not in seen:\n",
    "        seen.add(cp)\n",
    "        op, val = ins[cp]\n",
    "        if op == 'nop':\n",
    "            cp += 1\n",
    "            continue\n",
    "        if op == 'acc':\n",
    "            acc += val\n",
    "            cp += 1\n",
    "            continue\n",
    "        if op == 'jmp':\n",
    "            cp += val\n",
    "            continue\n",
    "    return acc\n",
    "        \n",
    "    \n",
    "run(\"\"\"nop +0\n",
    "acc +1\n",
    "jmp +4\n",
    "acc +3\n",
    "jmp -3\n",
    "acc -99\n",
    "acc +1\n",
    "jmp -4\n",
    "acc +6\"\"\".splitlines())"
   ]
  },
  {
   "cell_type": "code",
   "execution_count": 262,
   "metadata": {
    "Collapsed": "false"
   },
   "outputs": [
    {
     "data": {
      "text/plain": [
       "1134"
      ]
     },
     "execution_count": 262,
     "metadata": {},
     "output_type": "execute_result"
    }
   ],
   "source": [
    "def day8a():\n",
    "    return run(get_input_rows(8))\n",
    "\n",
    "day8a()"
   ]
  },
  {
   "cell_type": "code",
   "execution_count": 267,
   "metadata": {
    "Collapsed": "false"
   },
   "outputs": [
    {
     "data": {
      "text/plain": [
       "8"
      ]
     },
     "execution_count": 267,
     "metadata": {},
     "output_type": "execute_result"
    }
   ],
   "source": [
    "def run2(rows):\n",
    "    ins = [(r[:3], int(r[3:])) for idx, r in enumerate(rows)]\n",
    "    \n",
    "    for i in range(len(ins)):\n",
    "        # Change instruction i-th \n",
    "        new_ins = ins.copy()\n",
    "        if new_ins[i][0] == 'nop':\n",
    "            new_ins[i] = ('jmp', new_ins[i][1])\n",
    "        elif new_ins[i][0] == 'jmp':\n",
    "            new_ins[i] = ('nop', new_ins[i][1])\n",
    "        else:\n",
    "            continue\n",
    "            \n",
    "        cp = 0\n",
    "        acc = 0\n",
    "        seen = set()\n",
    "\n",
    "        while cp not in seen:\n",
    "            if cp == len(new_ins):\n",
    "                return acc\n",
    "\n",
    "            seen.add(cp)\n",
    "            op, val = new_ins[cp]\n",
    "\n",
    "            if op == 'nop':\n",
    "                cp += 1\n",
    "                continue\n",
    "            if op == 'acc':\n",
    "                acc += val\n",
    "                cp += 1\n",
    "                continue\n",
    "            if op == 'jmp':\n",
    "                cp += val\n",
    "                continue\n",
    "    \n",
    "run2(\"\"\"nop +0\n",
    "acc +1\n",
    "jmp +4\n",
    "acc +3\n",
    "jmp -3\n",
    "acc -99\n",
    "acc +1\n",
    "jmp -4\n",
    "acc +6\"\"\".splitlines())"
   ]
  },
  {
   "cell_type": "code",
   "execution_count": 268,
   "metadata": {
    "Collapsed": "false"
   },
   "outputs": [
    {
     "data": {
      "text/plain": [
       "1205"
      ]
     },
     "execution_count": 268,
     "metadata": {},
     "output_type": "execute_result"
    }
   ],
   "source": [
    "def day8b():\n",
    "    return run2(get_input_rows(8))\n",
    "\n",
    "day8b()"
   ]
  },
  {
   "cell_type": "markdown",
   "metadata": {
    "Collapsed": "false"
   },
   "source": [
    "## Day : [](https://adventofcode.com/2020/day/)"
   ]
  },
  {
   "cell_type": "markdown",
   "metadata": {
    "Collapsed": "false"
   },
   "source": [
    "## Day : [](https://adventofcode.com/2020/day/)"
   ]
  },
  {
   "cell_type": "markdown",
   "metadata": {
    "Collapsed": "false"
   },
   "source": [
    "## Day : [](https://adventofcode.com/2020/day/)"
   ]
  }
 ],
 "metadata": {
  "kernelspec": {
   "display_name": "Python 3",
   "language": "python",
   "name": "python3"
  },
  "language_info": {
   "codemirror_mode": {
    "name": "ipython",
    "version": 3
   },
   "file_extension": ".py",
   "mimetype": "text/x-python",
   "name": "python",
   "nbconvert_exporter": "python",
   "pygments_lexer": "ipython3",
   "version": "3.7.4"
  },
  "toc": {
   "base_numbering": 1,
   "nav_menu": {},
   "number_sections": false,
   "sideBar": true,
   "skip_h1_title": true,
   "title_cell": "Contents",
   "title_sidebar": "Contents",
   "toc_cell": false,
   "toc_position": {},
   "toc_section_display": true,
   "toc_window_display": false
  }
 },
 "nbformat": 4,
 "nbformat_minor": 4
}
