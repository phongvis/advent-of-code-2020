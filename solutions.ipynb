{
 "cells": [
  {
   "cell_type": "markdown",
   "metadata": {
    "Collapsed": "false"
   },
   "source": [
    "# Advent of Code 2020"
   ]
  },
  {
   "cell_type": "code",
   "execution_count": 3,
   "metadata": {
    "Collapsed": "false"
   },
   "outputs": [],
   "source": [
    "from helper import *\n",
    "\n",
    "import math\n",
    "import networkx as nx\n",
    "from copy import deepcopy"
   ]
  },
  {
   "cell_type": "markdown",
   "metadata": {
    "Collapsed": "true"
   },
   "source": [
    "## Day 1: [Report Repair](https://adventofcode.com/2020/day/1)"
   ]
  },
  {
   "cell_type": "code",
   "execution_count": 2,
   "metadata": {
    "Collapsed": "false"
   },
   "outputs": [
    {
     "data": {
      "text/plain": [
       "964875"
      ]
     },
     "execution_count": 2,
     "metadata": {},
     "output_type": "execute_result"
    }
   ],
   "source": [
    "def day1a():\n",
    "    nums = get_input_ints(1)\n",
    "    for a, b in combinations(nums, 2):\n",
    "        if a + b == 2020:\n",
    "            return a * b\n",
    "    \n",
    "day1a()"
   ]
  },
  {
   "cell_type": "code",
   "execution_count": 3,
   "metadata": {
    "Collapsed": "false"
   },
   "outputs": [
    {
     "data": {
      "text/plain": [
       "158661360"
      ]
     },
     "execution_count": 3,
     "metadata": {},
     "output_type": "execute_result"
    }
   ],
   "source": [
    "def day1b():\n",
    "    nums = get_input_ints(1)\n",
    "    for a, b, c in combinations(nums, 3):\n",
    "        if a + b + c == 2020:\n",
    "            return a * b * c\n",
    "    \n",
    "day1b()"
   ]
  },
  {
   "cell_type": "markdown",
   "metadata": {
    "Collapsed": "true"
   },
   "source": [
    "## Day 2: [Password Philosophy](https://adventofcode.com/2020/day/2)"
   ]
  },
  {
   "cell_type": "code",
   "execution_count": 4,
   "metadata": {
    "Collapsed": "false"
   },
   "outputs": [
    {
     "data": {
      "text/plain": [
       "506"
      ]
     },
     "execution_count": 4,
     "metadata": {},
     "output_type": "execute_result"
    }
   ],
   "source": [
    "def parse(line):\n",
    "    # Or proper regex: re.findall(r'(\\d+)-(\\d+) (\\w): (\\w+)', x)[0]\n",
    "    n1, n2, letter, _, pwd = re.split('\\W', line)\n",
    "    return int(n1), int(n2), letter, pwd\n",
    "    \n",
    "def check1(line):\n",
    "    n1, n2, letter, pwd = parse(line)\n",
    "    return n1 <= Counter(pwd)[letter] <= n2\n",
    "\n",
    "def check_lines1(lines):\n",
    "    return sum(check1(line) for line in lines)\n",
    "\n",
    "assert(check_lines1(\"\"\"1-3 a: abcde\n",
    "1-3 b: cdefg\n",
    "2-9 c: ccccccccc\"\"\".split('\\n')) == 2)\n",
    "    \n",
    "def day2a():\n",
    "    return check_lines1(get_input_rows(2))\n",
    "    \n",
    "day2a()"
   ]
  },
  {
   "cell_type": "code",
   "execution_count": 5,
   "metadata": {
    "Collapsed": "false"
   },
   "outputs": [
    {
     "data": {
      "text/plain": [
       "443"
      ]
     },
     "execution_count": 5,
     "metadata": {},
     "output_type": "execute_result"
    }
   ],
   "source": [
    "def check2(line):\n",
    "    n1, n2, letter, pwd = parse(line)\n",
    "    return (pwd[n1-1] == letter) ^ (pwd[n2-1] == letter)\n",
    "    \n",
    "def check_lines2(lines):\n",
    "    return sum(check2(line) for line in lines)\n",
    "\n",
    "assert(check_lines2(\"\"\"1-3 a: abcde\n",
    "1-3 b: cdefg\n",
    "2-9 c: ccccccccc\"\"\".split('\\n')) == 1)\n",
    "\n",
    "def day2b():\n",
    "    return check_lines2(get_input_rows(2))\n",
    "\n",
    "day2b()"
   ]
  },
  {
   "cell_type": "markdown",
   "metadata": {
    "Collapsed": "true"
   },
   "source": [
    "## Day 3: [Toboggan Trajectory](https://adventofcode.com/2020/day/3)"
   ]
  },
  {
   "cell_type": "code",
   "execution_count": 6,
   "metadata": {
    "Collapsed": "false"
   },
   "outputs": [
    {
     "data": {
      "text/plain": [
       "276"
      ]
     },
     "execution_count": 6,
     "metadata": {},
     "output_type": "execute_result"
    }
   ],
   "source": [
    "def count_trees(lines, step_x=1, step_y=3):\n",
    "    m = len(lines)\n",
    "    n = len(lines[0])\n",
    "    count = 0\n",
    "    for i in range(0, m, step_x):\n",
    "        j = i // step_x * step_y % n\n",
    "        count += lines[i][j] == '#'\n",
    "    return count\n",
    "            \n",
    "assert count_trees(\"\"\"..##.......\n",
    "#...#...#..\n",
    ".#....#..#.\n",
    "..#.#...#.#\n",
    ".#...##..#.\n",
    "..#.##.....\n",
    ".#.#.#....#\n",
    ".#........#\n",
    "#.##...#...\n",
    "#...##....#\n",
    ".#..#...#.#\"\"\".split('\\n')) == 7\n",
    "\n",
    "def day3a():\n",
    "    return count_trees(get_input_rows(3))\n",
    "    \n",
    "day3a()"
   ]
  },
  {
   "cell_type": "code",
   "execution_count": 7,
   "metadata": {
    "Collapsed": "false"
   },
   "outputs": [
    {
     "data": {
      "text/plain": [
       "7812180000"
      ]
     },
     "execution_count": 7,
     "metadata": {},
     "output_type": "execute_result"
    }
   ],
   "source": [
    "def mult_all_trees(lines):\n",
    "    return count_trees(lines, 1, 1) * count_trees(lines, 1, 3) * count_trees(lines, 1, 5) * count_trees(lines, 1, 7) * count_trees(lines, 2, 1)\n",
    "\n",
    "assert mult_all_trees(\"\"\"..##.......\n",
    "#...#...#..\n",
    ".#....#..#.\n",
    "..#.#...#.#\n",
    ".#...##..#.\n",
    "..#.##.....\n",
    ".#.#.#....#\n",
    ".#........#\n",
    "#.##...#...\n",
    "#...##....#\n",
    ".#..#...#.#\"\"\".split('\\n')) == 336\n",
    "\n",
    "def day3b():\n",
    "    return mult_all_trees(get_input_rows(3))\n",
    "    \n",
    "day3b()"
   ]
  },
  {
   "cell_type": "markdown",
   "metadata": {
    "Collapsed": "true"
   },
   "source": [
    "## Day 4: [Passport Processing](https://adventofcode.com/2020/day/4)"
   ]
  },
  {
   "cell_type": "code",
   "execution_count": 8,
   "metadata": {
    "Collapsed": "false"
   },
   "outputs": [
    {
     "data": {
      "text/plain": [
       "2"
      ]
     },
     "execution_count": 8,
     "metadata": {},
     "output_type": "execute_result"
    }
   ],
   "source": [
    "required_fields = set(['byr', 'iyr', 'eyr', 'hgt', 'hcl', 'ecl', 'pid'])\n",
    "\n",
    "def is_valid_passport(text):\n",
    "    fields = []\n",
    "    for info in text.split():\n",
    "        k, v = info.split(':')\n",
    "        fields.append(k)\n",
    "    return len(required_fields.intersection(fields)) == 7\n",
    "    \n",
    "is_valid_passport(\"\"\"ecl:gry pid:860033327 eyr:2020 hcl:#fffffd\n",
    "byr:1937 iyr:2017 cid:147 hgt:183cm\"\"\")\n",
    "\n",
    "def check_valid_passports(text):\n",
    "    return sum(is_valid_passport(t) for t in text.split('\\n\\n'))\n",
    "    \n",
    "check_valid_passports(\"\"\"ecl:gry pid:860033327 eyr:2020 hcl:#fffffd\n",
    "byr:1937 iyr:2017 cid:147 hgt:183cm\n",
    "\n",
    "iyr:2013 ecl:amb cid:350 eyr:2023 pid:028048884\n",
    "hcl:#cfa07d byr:1929\n",
    "\n",
    "hcl:#ae17e1 iyr:2013\n",
    "eyr:2024\n",
    "ecl:brn pid:760753108 byr:1931\n",
    "hgt:179cm\n",
    "\n",
    "hcl:#cfa07d eyr:2025 pid:166559648\n",
    "iyr:2011 ecl:brn hgt:59in\"\"\")"
   ]
  },
  {
   "cell_type": "code",
   "execution_count": 9,
   "metadata": {
    "Collapsed": "false"
   },
   "outputs": [
    {
     "data": {
      "text/plain": [
       "170"
      ]
     },
     "execution_count": 9,
     "metadata": {},
     "output_type": "execute_result"
    }
   ],
   "source": [
    "def day4a():\n",
    "    return check_valid_passports(get_input_string(4))\n",
    "    \n",
    "day4a()"
   ]
  },
  {
   "cell_type": "code",
   "execution_count": 10,
   "metadata": {
    "Collapsed": "false"
   },
   "outputs": [],
   "source": [
    "def is_valid_passport2(text):\n",
    "    fields = {}\n",
    "    for info in text.split():\n",
    "        k, v = info.split(':')\n",
    "        fields[k] = v\n",
    "\n",
    "    if len(required_fields.intersection(fields.keys())) != 7:\n",
    "        return False\n",
    "\n",
    "    if not(1920 <= int(fields['byr']) <= 2002): return False\n",
    "    if not(2010 <= int(fields['iyr']) <= 2020): return False\n",
    "    if not(2020 <= int(fields['eyr']) <= 2030): return False\n",
    "\n",
    "    hunit = fields['hgt'][-2:]\n",
    "    if hunit not in ['cm', 'in']: return False\n",
    "    height = int(fields['hgt'][:-2])\n",
    "    if hunit == 'cm':\n",
    "        if not(150 <= height <= 193): return False\n",
    "    if hunit == 'in':\n",
    "        if not(59 <= height <= 76): return False\n",
    "\n",
    "    if not re.match(r'^#[0-9a-f]{6}$', fields['hcl']): return False\n",
    "    if fields['ecl'] not in 'amb blu brn gry grn hzl oth'.split(): return False\n",
    "    if not re.match(r'^\\d{9}$', fields['pid']): return False\n",
    "    \n",
    "    return True\n",
    "\n",
    "assert is_valid_passport2(\"\"\"pid:087499704 hgt:74in ecl:grn iyr:2012 eyr:2030 byr:1980\n",
    "hcl:#623a2f\"\"\")\n",
    "assert is_valid_passport2(\"\"\"eyr:2029 ecl:blu cid:129 byr:1989\n",
    "iyr:2014 pid:896056539 hcl:#a97842 hgt:165cm\"\"\")\n",
    "\n",
    "def check_valid_passports2(text):\n",
    "    return sum(is_valid_passport2(t) for t in text.split('\\n\\n'))\n",
    "\n",
    "assert check_valid_passports2(\"\"\"eyr:1972 cid:100\n",
    "hcl:#18171d ecl:amb hgt:170 pid:186cm iyr:2018 byr:1926\n",
    "\n",
    "iyr:2019\n",
    "hcl:#602927 eyr:1967 hgt:170cm\n",
    "ecl:grn pid:012533040 byr:1946\n",
    "\n",
    "hcl:dab227 iyr:2012\n",
    "ecl:brn hgt:182cm pid:021572410 eyr:2020 byr:1992 cid:277\n",
    "\n",
    "hgt:59cm ecl:zzz\n",
    "eyr:2038 hcl:74454a iyr:2023\n",
    "pid:3556412378 byr:2007\"\"\") == 0\n",
    "\n",
    "assert check_valid_passports2(\"\"\"pid:087499704 hgt:74in ecl:grn iyr:2012 eyr:2030 byr:1980\n",
    "hcl:#623a2f\n",
    "\n",
    "eyr:2029 ecl:blu cid:129 byr:1989\n",
    "iyr:2014 pid:896056539 hcl:#a97842 hgt:165cm\n",
    "\n",
    "hcl:#888785\n",
    "hgt:164cm byr:2001 iyr:2015 cid:88\n",
    "pid:545766238 ecl:hzl\n",
    "eyr:2022\n",
    "\n",
    "iyr:2010 hgt:158cm hcl:#b6652a ecl:blu byr:1944 eyr:2021 pid:093154719\"\"\") == 4"
   ]
  },
  {
   "cell_type": "code",
   "execution_count": 11,
   "metadata": {
    "Collapsed": "false"
   },
   "outputs": [
    {
     "data": {
      "text/plain": [
       "103"
      ]
     },
     "execution_count": 11,
     "metadata": {},
     "output_type": "execute_result"
    }
   ],
   "source": [
    "def day4b():\n",
    "    return check_valid_passports2(get_input_string(4))\n",
    "\n",
    "day4b()"
   ]
  },
  {
   "cell_type": "markdown",
   "metadata": {
    "Collapsed": "true"
   },
   "source": [
    "## Day 5: [Binary Boarding](https://adventofcode.com/2020/day/5)"
   ]
  },
  {
   "cell_type": "code",
   "execution_count": 12,
   "metadata": {
    "Collapsed": "false"
   },
   "outputs": [
    {
     "data": {
      "text/plain": [
       "951"
      ]
     },
     "execution_count": 12,
     "metadata": {},
     "output_type": "execute_result"
    }
   ],
   "source": [
    "def find_seat(letters):\n",
    "    letters = letters.replace('B', '1').replace('F', '0').replace('R', '1').replace('L', '0')\n",
    "    return int(letters, 2)\n",
    "\n",
    "assert find_seat('FBFBBFFRLR') == 357\n",
    "\n",
    "def day5a():\n",
    "    rows = get_input_rows(5)\n",
    "    seats = [find_seat(r) for r in rows]\n",
    "    return max(seats)\n",
    "    \n",
    "day5a()"
   ]
  },
  {
   "cell_type": "code",
   "execution_count": 13,
   "metadata": {
    "Collapsed": "false"
   },
   "outputs": [
    {
     "data": {
      "text/plain": [
       "653"
      ]
     },
     "execution_count": 13,
     "metadata": {},
     "output_type": "execute_result"
    }
   ],
   "source": [
    "def day5b():\n",
    "    rows = get_input_rows(5)\n",
    "    seats = [find_seat(r) for r in rows]\n",
    "    s1, s2 = min(seats), max(seats)\n",
    "    all_seats = set(range(s1, s2+1))\n",
    "    return list(all_seats.difference(seats))[0]\n",
    "\n",
    "day5b()"
   ]
  },
  {
   "cell_type": "markdown",
   "metadata": {
    "Collapsed": "true"
   },
   "source": [
    "## Day 6: [Custom Customs](https://adventofcode.com/2020/day/6)"
   ]
  },
  {
   "cell_type": "code",
   "execution_count": 14,
   "metadata": {
    "Collapsed": "false"
   },
   "outputs": [
    {
     "data": {
      "text/plain": [
       "6335"
      ]
     },
     "execution_count": 14,
     "metadata": {},
     "output_type": "execute_result"
    }
   ],
   "source": [
    "def count_group(g):\n",
    "    g = g.replace('\\n', '')\n",
    "    return len(Counter(g).most_common())\n",
    "\n",
    "assert count_group(\"\"\"abcx\n",
    "abcy\n",
    "abcz\"\"\") == 6\n",
    "\n",
    "def count_answers(text):\n",
    "    return sum(count_group(g) for g in text.split('\\n\\n'))\n",
    "    \n",
    "assert count_answers(\"\"\"abc\n",
    "\n",
    "a\n",
    "b\n",
    "c\n",
    "\n",
    "ab\n",
    "ac\n",
    "\n",
    "a\n",
    "a\n",
    "a\n",
    "a\n",
    "\n",
    "b\"\"\") == 11\n",
    "\n",
    "def day6a():\n",
    "    return count_answers(get_input_string(6))\n",
    "\n",
    "day6a()"
   ]
  },
  {
   "cell_type": "code",
   "execution_count": 15,
   "metadata": {
    "Collapsed": "false"
   },
   "outputs": [
    {
     "data": {
      "text/plain": [
       "3392"
      ]
     },
     "execution_count": 15,
     "metadata": {},
     "output_type": "execute_result"
    }
   ],
   "source": [
    "def count_group(g):\n",
    "    lines = g.split('\\n')\n",
    "    s = set(lines[0])\n",
    "    for g in lines[1:]:\n",
    "        s.intersection_update(g)\n",
    "    return len(s)\n",
    "    \n",
    "assert count_group(\"\"\"abc\"\"\") == 3\n",
    "\n",
    "def count_answers(text):\n",
    "    return sum(count_group(g.strip()) for g in text.split('\\n\\n'))\n",
    "    \n",
    "assert count_answers(\"\"\"abc\n",
    "\n",
    "a\n",
    "b\n",
    "c\n",
    "\n",
    "ab\n",
    "ac\n",
    "\n",
    "a\n",
    "a\n",
    "a\n",
    "a\n",
    "\n",
    "b\"\"\") == 6\n",
    "\n",
    "def day6b():\n",
    "    return count_answers(get_input_string(6))\n",
    "\n",
    "day6b()"
   ]
  },
  {
   "cell_type": "markdown",
   "metadata": {
    "Collapsed": "true"
   },
   "source": [
    "## Day 7: [Handy Haversacks](https://adventofcode.com/2020/day/7)"
   ]
  },
  {
   "cell_type": "code",
   "execution_count": 16,
   "metadata": {
    "Collapsed": "false"
   },
   "outputs": [
    {
     "data": {
      "text/plain": [
       "126"
      ]
     },
     "execution_count": 16,
     "metadata": {},
     "output_type": "execute_result"
    }
   ],
   "source": [
    "def to_graph(rows):\n",
    "    graph = nx.DiGraph()\n",
    "    \n",
    "    for row in rows:\n",
    "        source = row[:row.index('bags')].strip()\n",
    "        graph.add_node(source)\n",
    "        \n",
    "        dests = row[row.index('contain'):].strip()\n",
    "        if 'no other bags' in dests:\n",
    "            continue\n",
    "            \n",
    "        for d in dests.split(','):\n",
    "            m = re.match(r'.*(\\d+)(.*)bag.*', d)\n",
    "            count, name = m.groups()\n",
    "            graph.add_edge(source, name.strip(), weight=count)\n",
    "            \n",
    "    return graph\n",
    "\n",
    "def count_sacks(rows):\n",
    "    g = to_graph(rows)\n",
    "    count = len([n for n in g.nodes if nx.has_path(g, n, 'shiny gold')])\n",
    "    return count - 1\n",
    "    \n",
    "def get_node_count(node, g):\n",
    "    count = 1\n",
    "    for n in g.neighbors(node):\n",
    "        count += int(g[node][n]['weight']) * get_node_count(n, g)\n",
    "    return count\n",
    "        \n",
    "def count_sub_sacks(rows):\n",
    "    g = to_graph(rows)\n",
    "    return get_node_count('shiny gold', g) - 1\n",
    "\n",
    "count_sub_sacks(\"\"\"shiny gold bags contain 2 dark red bags.\n",
    "dark red bags contain 2 dark orange bags.\n",
    "dark orange bags contain 2 dark yellow bags.\n",
    "dark yellow bags contain 2 dark green bags.\n",
    "dark green bags contain 2 dark blue bags.\n",
    "dark blue bags contain 2 dark violet bags.\n",
    "dark violet bags contain no other bags.\"\"\".splitlines())"
   ]
  },
  {
   "cell_type": "code",
   "execution_count": 17,
   "metadata": {
    "Collapsed": "false"
   },
   "outputs": [
    {
     "data": {
      "text/plain": [
       "124"
      ]
     },
     "execution_count": 17,
     "metadata": {},
     "output_type": "execute_result"
    }
   ],
   "source": [
    "def day7a():\n",
    "    return count_sacks(get_input_rows(7))\n",
    "\n",
    "day7a()"
   ]
  },
  {
   "cell_type": "code",
   "execution_count": 18,
   "metadata": {
    "Collapsed": "false"
   },
   "outputs": [
    {
     "data": {
      "text/plain": [
       "34862"
      ]
     },
     "execution_count": 18,
     "metadata": {},
     "output_type": "execute_result"
    }
   ],
   "source": [
    "def day7b():\n",
    "    return count_sub_sacks(get_input_rows(7))\n",
    "\n",
    "day7b()"
   ]
  },
  {
   "cell_type": "markdown",
   "metadata": {
    "Collapsed": "true"
   },
   "source": [
    "## Day 8: [Handheld Halting](https://adventofcode.com/2020/day/8)"
   ]
  },
  {
   "cell_type": "code",
   "execution_count": 19,
   "metadata": {
    "Collapsed": "false"
   },
   "outputs": [
    {
     "data": {
      "text/plain": [
       "5"
      ]
     },
     "execution_count": 19,
     "metadata": {},
     "output_type": "execute_result"
    }
   ],
   "source": [
    "def run(rows):\n",
    "    cp = 0\n",
    "    acc = 0\n",
    "    seen = set()\n",
    "    ins = [(r[:3], int(r[3:])) for idx, r in enumerate(rows)]\n",
    "\n",
    "    while cp not in seen:\n",
    "        seen.add(cp)\n",
    "        op, val = ins[cp]\n",
    "        if op == 'nop':\n",
    "            cp += 1\n",
    "            continue\n",
    "        if op == 'acc':\n",
    "            acc += val\n",
    "            cp += 1\n",
    "            continue\n",
    "        if op == 'jmp':\n",
    "            cp += val\n",
    "            continue\n",
    "    return acc\n",
    "        \n",
    "    \n",
    "run(\"\"\"nop +0\n",
    "acc +1\n",
    "jmp +4\n",
    "acc +3\n",
    "jmp -3\n",
    "acc -99\n",
    "acc +1\n",
    "jmp -4\n",
    "acc +6\"\"\".splitlines())"
   ]
  },
  {
   "cell_type": "code",
   "execution_count": 20,
   "metadata": {
    "Collapsed": "false"
   },
   "outputs": [
    {
     "data": {
      "text/plain": [
       "1134"
      ]
     },
     "execution_count": 20,
     "metadata": {},
     "output_type": "execute_result"
    }
   ],
   "source": [
    "def day8a():\n",
    "    return run(get_input_rows(8))\n",
    "\n",
    "day8a()"
   ]
  },
  {
   "cell_type": "code",
   "execution_count": 21,
   "metadata": {
    "Collapsed": "false"
   },
   "outputs": [
    {
     "data": {
      "text/plain": [
       "8"
      ]
     },
     "execution_count": 21,
     "metadata": {},
     "output_type": "execute_result"
    }
   ],
   "source": [
    "def run2(rows):\n",
    "    ins = [(r[:3], int(r[3:])) for idx, r in enumerate(rows)]\n",
    "    \n",
    "    for i in range(len(ins)):\n",
    "        # Change instruction i-th \n",
    "        new_ins = ins.copy()\n",
    "        if new_ins[i][0] == 'nop':\n",
    "            new_ins[i] = ('jmp', new_ins[i][1])\n",
    "        elif new_ins[i][0] == 'jmp':\n",
    "            new_ins[i] = ('nop', new_ins[i][1])\n",
    "        else:\n",
    "            continue\n",
    "            \n",
    "        cp = 0\n",
    "        acc = 0\n",
    "        seen = set()\n",
    "\n",
    "        while cp not in seen:\n",
    "            if cp == len(new_ins):\n",
    "                return acc\n",
    "\n",
    "            seen.add(cp)\n",
    "            op, val = new_ins[cp]\n",
    "\n",
    "            if op == 'nop':\n",
    "                cp += 1\n",
    "                continue\n",
    "            if op == 'acc':\n",
    "                acc += val\n",
    "                cp += 1\n",
    "                continue\n",
    "            if op == 'jmp':\n",
    "                cp += val\n",
    "                continue\n",
    "    \n",
    "run2(\"\"\"nop +0\n",
    "acc +1\n",
    "jmp +4\n",
    "acc +3\n",
    "jmp -3\n",
    "acc -99\n",
    "acc +1\n",
    "jmp -4\n",
    "acc +6\"\"\".splitlines())"
   ]
  },
  {
   "cell_type": "code",
   "execution_count": 22,
   "metadata": {
    "Collapsed": "false"
   },
   "outputs": [
    {
     "data": {
      "text/plain": [
       "1205"
      ]
     },
     "execution_count": 22,
     "metadata": {},
     "output_type": "execute_result"
    }
   ],
   "source": [
    "def day8b():\n",
    "    return run2(get_input_rows(8))\n",
    "\n",
    "day8b()"
   ]
  },
  {
   "cell_type": "markdown",
   "metadata": {
    "Collapsed": "true"
   },
   "source": [
    "## Day 9: [Encoding Error](https://adventofcode.com/2020/day/9)"
   ]
  },
  {
   "cell_type": "code",
   "execution_count": 23,
   "metadata": {
    "Collapsed": "false"
   },
   "outputs": [],
   "source": [
    "nums = list(map(int, \"\"\"35\n",
    "20\n",
    "15\n",
    "25\n",
    "47\n",
    "40\n",
    "62\n",
    "55\n",
    "65\n",
    "95\n",
    "102\n",
    "117\n",
    "150\n",
    "182\n",
    "127\n",
    "219\n",
    "299\n",
    "277\n",
    "309\n",
    "576\"\"\".splitlines()))"
   ]
  },
  {
   "cell_type": "code",
   "execution_count": 24,
   "metadata": {
    "Collapsed": "false"
   },
   "outputs": [
    {
     "data": {
      "text/plain": [
       "True"
      ]
     },
     "execution_count": 24,
     "metadata": {},
     "output_type": "execute_result"
    }
   ],
   "source": [
    "def check_last(nums, k):\n",
    "    nums, target = nums[-k-1:-1], nums[-1]\n",
    "    for a, b in combinations(nums, 2):\n",
    "        if a + b == target:\n",
    "            return True\n",
    "    else:\n",
    "        return False\n",
    "    \n",
    "check_last([35, 20, 15, 25, 47, 40, 62], 5)"
   ]
  },
  {
   "cell_type": "code",
   "execution_count": 25,
   "metadata": {
    "Collapsed": "false"
   },
   "outputs": [
    {
     "data": {
      "text/plain": [
       "127"
      ]
     },
     "execution_count": 25,
     "metadata": {},
     "output_type": "execute_result"
    }
   ],
   "source": [
    "def find_num(nums, top=5):\n",
    "    for k in range(top + 1, len(nums)):\n",
    "        if not check_last(nums[:k+1], top):\n",
    "            return nums[k]\n",
    "        \n",
    "find_num(nums)"
   ]
  },
  {
   "cell_type": "code",
   "execution_count": 26,
   "metadata": {
    "Collapsed": "false"
   },
   "outputs": [
    {
     "data": {
      "text/plain": [
       "14360655"
      ]
     },
     "execution_count": 26,
     "metadata": {},
     "output_type": "execute_result"
    }
   ],
   "source": [
    "def day9a():\n",
    "    return find_num(get_input_ints(9), top=25)\n",
    "\n",
    "target = day9a()\n",
    "target"
   ]
  },
  {
   "cell_type": "code",
   "execution_count": 27,
   "metadata": {
    "Collapsed": "false"
   },
   "outputs": [
    {
     "data": {
      "text/plain": [
       "62"
      ]
     },
     "execution_count": 27,
     "metadata": {},
     "output_type": "execute_result"
    }
   ],
   "source": [
    "def find_num_sum(nums, target):\n",
    "    for i, n in enumerate(nums):\n",
    "        s = 0\n",
    "        for j in range(i+1, len(nums)):\n",
    "            s += nums[j]\n",
    "            if s == target:\n",
    "                return min(nums[i:j+1]) + max(nums[i:j+1])\n",
    "\n",
    "find_num_sum(nums, 127)"
   ]
  },
  {
   "cell_type": "code",
   "execution_count": 28,
   "metadata": {
    "Collapsed": "false"
   },
   "outputs": [
    {
     "data": {
      "text/plain": [
       "1962331"
      ]
     },
     "execution_count": 28,
     "metadata": {},
     "output_type": "execute_result"
    }
   ],
   "source": [
    "def day9b():\n",
    "    return find_num_sum(get_input_ints(9), target)\n",
    "\n",
    "day9b()"
   ]
  },
  {
   "cell_type": "markdown",
   "metadata": {
    "Collapsed": "true"
   },
   "source": [
    "## Day 10: [Adapter Array](https://adventofcode.com/2020/day/10)"
   ]
  },
  {
   "cell_type": "code",
   "execution_count": 29,
   "metadata": {
    "Collapsed": "false"
   },
   "outputs": [],
   "source": [
    "nums = list(map(int, \"\"\"16\n",
    "10\n",
    "15\n",
    "5\n",
    "1\n",
    "11\n",
    "7\n",
    "19\n",
    "6\n",
    "12\n",
    "4\"\"\".splitlines()))"
   ]
  },
  {
   "cell_type": "code",
   "execution_count": 30,
   "metadata": {
    "Collapsed": "false"
   },
   "outputs": [
    {
     "data": {
      "text/plain": [
       "35"
      ]
     },
     "execution_count": 30,
     "metadata": {},
     "output_type": "execute_result"
    }
   ],
   "source": [
    "def count_jolts(nums):\n",
    "    nums = sorted(nums)\n",
    "    nums = [0] + nums + [max(nums) + 3]\n",
    "    diffs = [n2-n1 for n1, n2 in zip(nums[:-1], nums[1:])]\n",
    "    c = Counter(diffs)\n",
    "    return c[1] * c[3]\n",
    "\n",
    "count_jolts(nums)"
   ]
  },
  {
   "cell_type": "code",
   "execution_count": 31,
   "metadata": {
    "Collapsed": "false"
   },
   "outputs": [
    {
     "data": {
      "text/plain": [
       "8"
      ]
     },
     "execution_count": 31,
     "metadata": {},
     "output_type": "execute_result"
    }
   ],
   "source": [
    "def count_options(nums):\n",
    "    nums = sorted(nums)\n",
    "    nums = [0] + nums + [max(nums) + 3]\n",
    "    diffs = [n2-n1 for n1, n2 in zip(nums[:-1], nums[1:])]\n",
    "    sums = [0, 0, 0, 0, 0]\n",
    "    c = 0\n",
    "    for d in diffs:\n",
    "        if d == 1:\n",
    "            c += 1\n",
    "        else:\n",
    "            sums[c] += 1\n",
    "            c = 0\n",
    "    return (2**sums[2]) * (4**sums[3]) * (7**sums[4])\n",
    "        \n",
    "count_options(nums)"
   ]
  },
  {
   "cell_type": "code",
   "execution_count": 32,
   "metadata": {
    "Collapsed": "false"
   },
   "outputs": [
    {
     "data": {
      "text/plain": [
       "1625"
      ]
     },
     "execution_count": 32,
     "metadata": {},
     "output_type": "execute_result"
    }
   ],
   "source": [
    "def day10a():\n",
    "    return count_jolts(get_input_ints(10))\n",
    "    \n",
    "day10a()"
   ]
  },
  {
   "cell_type": "code",
   "execution_count": 33,
   "metadata": {
    "Collapsed": "false"
   },
   "outputs": [
    {
     "data": {
      "text/plain": [
       "3100448333024"
      ]
     },
     "execution_count": 33,
     "metadata": {},
     "output_type": "execute_result"
    }
   ],
   "source": [
    "def day10b():\n",
    "    return count_options(get_input_ints(10))\n",
    "    \n",
    "day10b()"
   ]
  },
  {
   "cell_type": "markdown",
   "metadata": {
    "Collapsed": "true"
   },
   "source": [
    "## Day 11: [Seating System](https://adventofcode.com/2020/day/11)"
   ]
  },
  {
   "cell_type": "code",
   "execution_count": 34,
   "metadata": {
    "Collapsed": "false"
   },
   "outputs": [],
   "source": [
    "init_seats = \"\"\"L.LL.LL.LL\n",
    "LLLLLLL.LL\n",
    "L.L.L..L..\n",
    "LLLL.LL.LL\n",
    "L.LL.LL.LL\n",
    "L.LLLLL.LL\n",
    "..L.L.....\n",
    "LLLLLLLLLL\n",
    "L.LLLLLL.L\n",
    "L.LLLLL.LL\"\"\".splitlines()"
   ]
  },
  {
   "cell_type": "code",
   "execution_count": 35,
   "metadata": {
    "Collapsed": "false"
   },
   "outputs": [
    {
     "data": {
      "text/plain": [
       "37"
      ]
     },
     "execution_count": 35,
     "metadata": {},
     "output_type": "execute_result"
    }
   ],
   "source": [
    "def get_seats(i, j, seats):\n",
    "    valid_seats = []\n",
    "    for pi, pj in neighbors8((i, j)):\n",
    "        if pi >= 0 and pj >= 0 and pi < len(seats) and pj < len(seats[pi]):\n",
    "            valid_seats.append(seats[pi][pj])\n",
    "    return valid_seats\n",
    "\n",
    "def count_seats(rows):\n",
    "    seats = [[c for c in r] for r in rows]\n",
    "    while True:\n",
    "        changed = False\n",
    "        new_seats = deepcopy(seats)\n",
    "        for i, r in enumerate(seats):\n",
    "            for j, c in enumerate(r):\n",
    "                counter = Counter(get_seats(i, j, seats))\n",
    "                if c == 'L' and counter.get('#', 0) == 0:\n",
    "                    new_seats[i][j] = '#'\n",
    "                    changed = True\n",
    "                if c == '#' and counter.get('#', 0) >= 4:\n",
    "                    new_seats[i][j] = 'L'\n",
    "                    changed = True\n",
    "        seats = new_seats\n",
    "\n",
    "        if not changed:\n",
    "            break\n",
    "    \n",
    "    count = 0\n",
    "    for r in seats:\n",
    "        for c in r:\n",
    "            if c == '#':\n",
    "                count += 1\n",
    "    return count\n",
    "    \n",
    "        \n",
    "count_seats(init_seats)"
   ]
  },
  {
   "cell_type": "code",
   "execution_count": 36,
   "metadata": {
    "Collapsed": "false"
   },
   "outputs": [
    {
     "data": {
      "text/plain": [
       "2222"
      ]
     },
     "execution_count": 36,
     "metadata": {},
     "output_type": "execute_result"
    }
   ],
   "source": [
    "def day11a():\n",
    "    return count_seats(get_input_rows(11))\n",
    "    \n",
    "day11a()"
   ]
  },
  {
   "cell_type": "code",
   "execution_count": 37,
   "metadata": {
    "Collapsed": "false"
   },
   "outputs": [],
   "source": [
    "def count_occupied(i, j, seats):\n",
    "    count = 0\n",
    "    for di, dj in neighbors8((0, 0)):\n",
    "        for k in range(1, len(seats) + 1):\n",
    "            pi = i + di * k\n",
    "            pj = j + dj * k\n",
    "            if pi >= 0 and pj >= 0 and pi < len(seats) and pj < len(seats[pi]):\n",
    "                if seats[pi][pj] == '#':\n",
    "                    count += 1\n",
    "                    break\n",
    "                elif seats[pi][pj] == 'L':\n",
    "                    break\n",
    "    return count\n",
    "\n",
    "assert count_occupied(4, 3, \n",
    "\"\"\".......#.\n",
    "...#.....\n",
    ".#.......\n",
    ".........\n",
    "..#L....#\n",
    "....#....\n",
    ".........\n",
    "#........\n",
    "...#.....\"\"\".splitlines()) == 8\n",
    "\n",
    "assert count_occupied(1, 1,\n",
    "\"\"\".............\n",
    ".L.L.#.#.#.#.\n",
    ".............\"\"\".splitlines()) == 0"
   ]
  },
  {
   "cell_type": "code",
   "execution_count": 38,
   "metadata": {
    "Collapsed": "false"
   },
   "outputs": [],
   "source": [
    "def count_seats2(rows):\n",
    "    seats = [[c for c in r] for r in rows]\n",
    "    while True:\n",
    "        changed = False\n",
    "        new_seats = deepcopy(seats)\n",
    "        for i, r in enumerate(seats):\n",
    "            for j, c in enumerate(r):\n",
    "                count = count_occupied(i, j, seats)\n",
    "                if c == 'L' and count == 0:\n",
    "                    new_seats[i][j] = '#'\n",
    "                    changed = True\n",
    "                if c == '#' and count >= 5:\n",
    "                    new_seats[i][j] = 'L'\n",
    "                    changed = True\n",
    "        seats = new_seats\n",
    "        \n",
    "#         for r in seats:\n",
    "#             print(''.join(r))\n",
    "#         print()\n",
    "\n",
    "        if not changed:\n",
    "            break\n",
    "    \n",
    "    count = 0\n",
    "    for r in seats:\n",
    "        for c in r:\n",
    "            if c == '#':\n",
    "                count += 1\n",
    "    return count\n",
    "    \n",
    "assert count_seats2(init_seats) == 26"
   ]
  },
  {
   "cell_type": "code",
   "execution_count": 39,
   "metadata": {
    "Collapsed": "false"
   },
   "outputs": [
    {
     "data": {
      "text/plain": [
       "2032"
      ]
     },
     "execution_count": 39,
     "metadata": {},
     "output_type": "execute_result"
    }
   ],
   "source": [
    "def day11b():\n",
    "    return count_seats2(get_input_rows(11))\n",
    "    \n",
    "day11b()"
   ]
  },
  {
   "cell_type": "markdown",
   "metadata": {
    "Collapsed": "true"
   },
   "source": [
    "## Day 12: [Rain Risk](https://adventofcode.com/2020/day/12)"
   ]
  },
  {
   "cell_type": "code",
   "execution_count": 43,
   "metadata": {
    "Collapsed": "false"
   },
   "outputs": [
    {
     "data": {
      "text/plain": [
       "25"
      ]
     },
     "execution_count": 43,
     "metadata": {},
     "output_type": "execute_result"
    }
   ],
   "source": [
    "dirs = 'NESW'\n",
    "\n",
    "def move(pos, dir, step):\n",
    "    x, y, f = pos\n",
    "    if (dir == 'N') or (dir == 'F' and f == 'N'): \n",
    "        y -= step\n",
    "    if (dir == 'S') or (dir == 'F' and f == 'S'): \n",
    "        y += step\n",
    "    if (dir == 'W') or (dir == 'F' and f == 'W'): \n",
    "        x -= step\n",
    "    if (dir == 'E') or (dir == 'F' and f == 'E'): \n",
    "        x += step\n",
    "    if dir == 'L':\n",
    "        step = step // 90\n",
    "        f = dirs[(dirs.index(f) - step + 4) % 4]\n",
    "    if dir == 'R':\n",
    "        step = step // 90\n",
    "        f = dirs[(dirs.index(f) + step) % 4]\n",
    "    return (x, y, f)\n",
    "    \n",
    "# move((0, 0, 'E'), 'F', 10)\n",
    "\n",
    "def move_all(rows):\n",
    "    x, y, f = 0, 0, 'E'\n",
    "    for r in rows:\n",
    "        dir = r[0]\n",
    "        step = int(r[1:])\n",
    "        x, y, f = move((x, y, f), dir, step)\n",
    "    return abs(x) + abs(y)\n",
    "        \n",
    "move_all(\"\"\"F10\n",
    "N3\n",
    "F7\n",
    "R90\n",
    "F11\"\"\".splitlines())"
   ]
  },
  {
   "cell_type": "code",
   "execution_count": 45,
   "metadata": {
    "Collapsed": "false"
   },
   "outputs": [
    {
     "data": {
      "text/plain": [
       "2847"
      ]
     },
     "execution_count": 45,
     "metadata": {},
     "output_type": "execute_result"
    }
   ],
   "source": [
    "def day12a():\n",
    "    return move_all(get_input_rows(12))\n",
    "\n",
    "day12a()"
   ]
  },
  {
   "cell_type": "code",
   "execution_count": 56,
   "metadata": {
    "Collapsed": "false"
   },
   "outputs": [
    {
     "data": {
      "text/plain": [
       "286"
      ]
     },
     "execution_count": 56,
     "metadata": {},
     "output_type": "execute_result"
    }
   ],
   "source": [
    "def move2(pos, wp, dir, step):\n",
    "    x, y, f = pos\n",
    "    wx, wy = wp\n",
    "    if dir == 'N': \n",
    "        wy -= step\n",
    "    if dir == 'S': \n",
    "        wy += step\n",
    "    if dir == 'W': \n",
    "        wx -= step\n",
    "    if dir == 'E': \n",
    "        wx += step\n",
    "    if dir == 'R':\n",
    "        for _ in range(step // 90):\n",
    "            wx, wy = -wy, wx\n",
    "    if dir == 'L':\n",
    "        for _ in range(step // 90):\n",
    "            wx, wy = wy, -wx\n",
    "    if dir == 'F':\n",
    "        x += step * wx\n",
    "        y += step * wy\n",
    "    return (x, y, f), (wx, wy)\n",
    "    \n",
    "assert move2((0, 0, 'E'), (10, -1), 'F', 10) == ((100, -10, 'E'), (10, -1))\n",
    "\n",
    "def move_all2(rows):\n",
    "    s = (0, 0, 'E')\n",
    "    w = (10, -1)\n",
    "    for r in rows:\n",
    "        dir = r[0]\n",
    "        step = int(r[1:])\n",
    "        s, w = move2(s, w, dir, step)\n",
    "    return abs(s[0]) + abs(s[1])\n",
    "        \n",
    "move_all2(\"\"\"F10\n",
    "N3\n",
    "F7\n",
    "R90\n",
    "F11\"\"\".splitlines())"
   ]
  },
  {
   "cell_type": "code",
   "execution_count": 57,
   "metadata": {
    "Collapsed": "false"
   },
   "outputs": [
    {
     "data": {
      "text/plain": [
       "29839"
      ]
     },
     "execution_count": 57,
     "metadata": {},
     "output_type": "execute_result"
    }
   ],
   "source": [
    "def day12b():\n",
    "    return move_all2(get_input_rows(12))\n",
    "\n",
    "day12b()"
   ]
  },
  {
   "cell_type": "markdown",
   "metadata": {
    "Collapsed": "false"
   },
   "source": [
    "## Day 13: [Shuttle Search](https://adventofcode.com/2020/day/13)"
   ]
  },
  {
   "cell_type": "code",
   "execution_count": 59,
   "metadata": {
    "Collapsed": "false"
   },
   "outputs": [],
   "source": []
  },
  {
   "cell_type": "code",
   "execution_count": 66,
   "metadata": {
    "Collapsed": "false"
   },
   "outputs": [
    {
     "data": {
      "text/plain": [
       "295"
      ]
     },
     "execution_count": 66,
     "metadata": {},
     "output_type": "execute_result"
    }
   ],
   "source": [
    "def find_bus(lines):\n",
    "    t = int(lines[0])\n",
    "    buses = parse_ints(lines[1])\n",
    "    times = []\n",
    "    for b in buses:\n",
    "        m = math.ceil(t/b)\n",
    "        times.append((b, m * b))\n",
    "    b, tb = min(times, key=lambda t: t[1])\n",
    "    return b * (tb - t)\n",
    "    \n",
    "find_bus(\"\"\"939\n",
    "7,13,x,x,59,x,31,19\"\"\".splitlines())"
   ]
  },
  {
   "cell_type": "code",
   "execution_count": 67,
   "metadata": {
    "Collapsed": "false"
   },
   "outputs": [
    {
     "data": {
      "text/plain": [
       "2845"
      ]
     },
     "execution_count": 67,
     "metadata": {},
     "output_type": "execute_result"
    }
   ],
   "source": [
    "def day13a():\n",
    "    return find_bus(get_input_rows(13))\n",
    "\n",
    "day13a()"
   ]
  },
  {
   "cell_type": "code",
   "execution_count": 14,
   "metadata": {
    "Collapsed": "false"
   },
   "outputs": [
    {
     "data": {
      "text/plain": [
       "34"
      ]
     },
     "execution_count": 14,
     "metadata": {},
     "output_type": "execute_result"
    }
   ],
   "source": [
    "def chinese_remainder(divs, rems):\n",
    "    \"https://brilliant.org/wiki/chinese-remainder-theorem/\"\n",
    "    s = 0\n",
    "    N = N = math.prod(divs)\n",
    "    for n, a in zip(divs, rems):\n",
    "        y = N // n\n",
    "        z = pow(y, -1, n)\n",
    "        s += a * y * z\n",
    "    return s % N\n",
    "\n",
    "chinese_remainder([3, 5, 7], [1, 4, 6])"
   ]
  },
  {
   "cell_type": "code",
   "execution_count": 15,
   "metadata": {
    "Collapsed": "false"
   },
   "outputs": [
    {
     "data": {
      "text/plain": [
       "1068781"
      ]
     },
     "execution_count": 15,
     "metadata": {},
     "output_type": "execute_result"
    }
   ],
   "source": [
    "def find_bus2(lines):\n",
    "    line = lines[1]\n",
    "    buses = [(i, int(b)) for i, b in enumerate(line.split(',')) if b != 'x']\n",
    "    divs = [b for m, b in buses]\n",
    "    rems = [b - m for m, b in buses]\n",
    "    return chinese_remainder(divs, rems)\n",
    "    \n",
    "find_bus2(\"\"\"939\n",
    "7,13,x,x,59,x,31,19\"\"\".splitlines())"
   ]
  },
  {
   "cell_type": "code",
   "execution_count": 16,
   "metadata": {
    "Collapsed": "false"
   },
   "outputs": [
    {
     "data": {
      "text/plain": [
       "487905974205117"
      ]
     },
     "execution_count": 16,
     "metadata": {},
     "output_type": "execute_result"
    }
   ],
   "source": [
    "def day13b():\n",
    "    return find_bus2(get_input_rows(13))\n",
    "\n",
    "day13b()"
   ]
  }
 ],
 "metadata": {
  "kernelspec": {
   "display_name": "email",
   "language": "python",
   "name": "email"
  },
  "language_info": {
   "codemirror_mode": {
    "name": "ipython",
    "version": 3
   },
   "file_extension": ".py",
   "mimetype": "text/x-python",
   "name": "python",
   "nbconvert_exporter": "python",
   "pygments_lexer": "ipython3",
   "version": "3.8.2"
  },
  "toc": {
   "base_numbering": 1,
   "nav_menu": {},
   "number_sections": false,
   "sideBar": true,
   "skip_h1_title": true,
   "title_cell": "Contents",
   "title_sidebar": "Contents",
   "toc_cell": false,
   "toc_position": {},
   "toc_section_display": true,
   "toc_window_display": false
  }
 },
 "nbformat": 4,
 "nbformat_minor": 4
}
